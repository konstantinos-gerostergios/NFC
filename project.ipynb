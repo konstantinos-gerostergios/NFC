{
  "cells": [
    {
      "cell_type": "code",
      "execution_count": null,
      "metadata": {
        "id": "r-MvLHBfZcGW"
      },
      "outputs": [],
      "source": [
        "#importing libraries\n",
        "import time\n",
        "import matplotlib.pyplot as plt\n",
        "import random\n",
        "import pandas as pd\n",
        "import numpy as np\n",
        "import seaborn as sns\n",
        "import re\n",
        "import tensorflow as tf\n",
        "from tensorflow import keras\n",
        "from nltk.stem.porter import PorterStemmer\n",
        "from nltk.corpus import stopwords\n",
        "from tensorflow.keras.preprocessing.text import one_hot\n",
        "from tensorflow.keras.preprocessing.sequence import pad_sequences\n",
        "from sklearn.preprocessing import LabelEncoder\n",
        "from sklearn.model_selection import train_test_split\n",
        "from tensorflow.keras.layers import Embedding,LSTM,Dense,Dropout\n",
        "from tensorflow.keras.models import Sequential\n",
        "from tensorflow.keras.utils import to_categorical\n",
        "from tensorflow.keras.preprocessing.text import Tokenizer\n",
        "from sklearn.metrics import accuracy_score"
      ]
    },
    {
      "cell_type": "code",
      "execution_count": null,
      "metadata": {
        "id": "F4kBOpaLQ2rk"
      },
      "outputs": [],
      "source": [
        "save = False #@param {type: \"boolean\"}"
      ]
    },
    {
      "cell_type": "markdown",
      "metadata": {
        "id": "pvFEbM10FPfS"
      },
      "source": [
        "# Load the dataset for my drive."
      ]
    },
    {
      "cell_type": "code",
      "execution_count": null,
      "metadata": {
        "colab": {
          "base_uri": "https://localhost:8080/"
        },
        "id": "sIHUwaUuc9kE",
        "outputId": "3adc1517-2fd3-455d-b7c0-b9f2572b74fe"
      },
      "outputs": [
        {
          "name": "stdout",
          "output_type": "stream",
          "text": [
            "Mounted at /content/drive\n"
          ]
        }
      ],
      "source": [
        "from google.colab import drive\n",
        "drive.mount('/content/drive')"
      ]
    },
    {
      "cell_type": "code",
      "execution_count": null,
      "metadata": {
        "colab": {
          "base_uri": "https://localhost:8080/"
        },
        "id": "TYMGHbPGc73p",
        "outputId": "81119e08-f5ef-4685-cff6-c3befbcbee17"
      },
      "outputs": [
        {
          "name": "stdout",
          "output_type": "stream",
          "text": [
            "/content/drive/MyDrive/NFC\n",
            " news-classification.zip   project-3.ipynb      project.ipynb  'Αντίγραφο του project 666.ipynb'\n",
            " project-2.ipynb          'project 666.ipynb'   \u001b[0m\u001b[01;34msaves\u001b[0m/\n"
          ]
        }
      ],
      "source": [
        "%cd /content/drive/MyDrive/NFC\n",
        "%ls"
      ]
    },
    {
      "cell_type": "markdown",
      "metadata": {
        "id": "IiXvJmoeF_TA"
      },
      "source": [
        "# Import the data."
      ]
    },
    {
      "cell_type": "code",
      "execution_count": null,
      "metadata": {
        "colab": {
          "base_uri": "https://localhost:8080/",
          "height": 380
        },
        "id": "pT2w0hXOc-x7",
        "outputId": "84e017f6-7f8f-49a3-b2bb-3aa65fd96e19"
      },
      "outputs": [
        {
          "data": {
            "application/vnd.google.colaboratory.intrinsic+json": {
              "repr_error": "'str' object has no attribute 'empty'",
              "type": "dataframe",
              "variable_name": "dir"
            },
            "text/html": [
              "\n",
              "  <div id=\"df-5f2b96f4-3508-40ec-9268-f62a91b9288a\" class=\"colab-df-container\">\n",
              "    <div>\n",
              "<style scoped>\n",
              "    .dataframe tbody tr th:only-of-type {\n",
              "        vertical-align: middle;\n",
              "    }\n",
              "\n",
              "    .dataframe tbody tr th {\n",
              "        vertical-align: top;\n",
              "    }\n",
              "\n",
              "    .dataframe thead th {\n",
              "        text-align: right;\n",
              "    }\n",
              "</style>\n",
              "<table border=\"1\" class=\"dataframe\">\n",
              "  <thead>\n",
              "    <tr style=\"text-align: right;\">\n",
              "      <th></th>\n",
              "      <th>data_id</th>\n",
              "      <th>id</th>\n",
              "      <th>date</th>\n",
              "      <th>source</th>\n",
              "      <th>title</th>\n",
              "      <th>content</th>\n",
              "      <th>author</th>\n",
              "      <th>url</th>\n",
              "      <th>published</th>\n",
              "      <th>published_utc</th>\n",
              "      <th>collection_utc</th>\n",
              "      <th>category_level_1</th>\n",
              "      <th>category_level_2</th>\n",
              "    </tr>\n",
              "  </thead>\n",
              "  <tbody>\n",
              "    <tr>\n",
              "      <th>0</th>\n",
              "      <td>1809</td>\n",
              "      <td>abcnews--2019-10-31--Virginia mom charged with...</td>\n",
              "      <td>2019-10-31</td>\n",
              "      <td>abcnews</td>\n",
              "      <td>Virginia mom charged with murder in 2-year-old...</td>\n",
              "      <td>The Virginia woman whose 2-year-old son was fo...</td>\n",
              "      <td>NaN</td>\n",
              "      <td>https://abcnews.go.com/US/wireStory/virginia-m...</td>\n",
              "      <td>Thu, 31 Oct 2019 16:49:56 -0400</td>\n",
              "      <td>1572554996</td>\n",
              "      <td>1572559512</td>\n",
              "      <td>crime, law and justice</td>\n",
              "      <td>crime</td>\n",
              "    </tr>\n",
              "    <tr>\n",
              "      <th>1</th>\n",
              "      <td>1980</td>\n",
              "      <td>abcnews--2019-11-07--2 escaped murder suspects...</td>\n",
              "      <td>2019-11-07</td>\n",
              "      <td>abcnews</td>\n",
              "      <td>2 escaped murder suspects arrested at US-Mexic...</td>\n",
              "      <td>Authorities are trying to determine if anyone ...</td>\n",
              "      <td>NaN</td>\n",
              "      <td>https://abcnews.go.com/US/wireStory/escaped-mu...</td>\n",
              "      <td>Thu, 07 Nov 2019 00:13:12 -0500</td>\n",
              "      <td>1573103592</td>\n",
              "      <td>1573131986</td>\n",
              "      <td>crime, law and justice</td>\n",
              "      <td>crime</td>\n",
              "    </tr>\n",
              "    <tr>\n",
              "      <th>2</th>\n",
              "      <td>1995</td>\n",
              "      <td>abcnews--2019-11-07--Family turns in escaped b...</td>\n",
              "      <td>2019-11-07</td>\n",
              "      <td>abcnews</td>\n",
              "      <td>Family turns in escaped boy, 13, suspected in ...</td>\n",
              "      <td>A 13-year-old suspect in a double homicide who...</td>\n",
              "      <td>NaN</td>\n",
              "      <td>https://abcnews.go.com/US/wireStory/family-tur...</td>\n",
              "      <td>Thu, 07 Nov 2019 07:39:54 -0500</td>\n",
              "      <td>1573130394</td>\n",
              "      <td>1573131982</td>\n",
              "      <td>crime, law and justice</td>\n",
              "      <td>crime</td>\n",
              "    </tr>\n",
              "    <tr>\n",
              "      <th>3</th>\n",
              "      <td>2740</td>\n",
              "      <td>abcnews--2019-12-02--Mother charged with murde...</td>\n",
              "      <td>2019-12-02</td>\n",
              "      <td>abcnews</td>\n",
              "      <td>Mother charged with murder in deaths of 2 youn...</td>\n",
              "      <td>The mother of two young children found hanging...</td>\n",
              "      <td>NaN</td>\n",
              "      <td>https://abcnews.go.com/US/wireStory/mother-cha...</td>\n",
              "      <td>Mon, 02 Dec 2019 11:30:59 -0500</td>\n",
              "      <td>1575304259</td>\n",
              "      <td>1575308811</td>\n",
              "      <td>crime, law and justice</td>\n",
              "      <td>crime</td>\n",
              "    </tr>\n",
              "    <tr>\n",
              "      <th>4</th>\n",
              "      <td>7038</td>\n",
              "      <td>ageofautism--2019-04-12--Physician Father and ...</td>\n",
              "      <td>2019-04-12</td>\n",
              "      <td>ageofautism</td>\n",
              "      <td>Physician, Father and Caretaker of 29 Year Old...</td>\n",
              "      <td>\"One family member said Derek “can be violent ...</td>\n",
              "      <td>Age of Autism</td>\n",
              "      <td>http://feedproxy.google.com/~r/ageofautism/~3/...</td>\n",
              "      <td>2019-04-12 09:00:00+00:00</td>\n",
              "      <td>1555074000</td>\n",
              "      <td>1567543083</td>\n",
              "      <td>crime, law and justice</td>\n",
              "      <td>crime</td>\n",
              "    </tr>\n",
              "  </tbody>\n",
              "</table>\n",
              "</div>\n",
              "    <div class=\"colab-df-buttons\">\n",
              "\n",
              "  <div class=\"colab-df-container\">\n",
              "    <button class=\"colab-df-convert\" onclick=\"convertToInteractive('df-5f2b96f4-3508-40ec-9268-f62a91b9288a')\"\n",
              "            title=\"Convert this dataframe to an interactive table.\"\n",
              "            style=\"display:none;\">\n",
              "\n",
              "  <svg xmlns=\"http://www.w3.org/2000/svg\" height=\"24px\" viewBox=\"0 -960 960 960\">\n",
              "    <path d=\"M120-120v-720h720v720H120Zm60-500h600v-160H180v160Zm220 220h160v-160H400v160Zm0 220h160v-160H400v160ZM180-400h160v-160H180v160Zm440 0h160v-160H620v160ZM180-180h160v-160H180v160Zm440 0h160v-160H620v160Z\"/>\n",
              "  </svg>\n",
              "    </button>\n",
              "\n",
              "  <style>\n",
              "    .colab-df-container {\n",
              "      display:flex;\n",
              "      gap: 12px;\n",
              "    }\n",
              "\n",
              "    .colab-df-convert {\n",
              "      background-color: #E8F0FE;\n",
              "      border: none;\n",
              "      border-radius: 50%;\n",
              "      cursor: pointer;\n",
              "      display: none;\n",
              "      fill: #1967D2;\n",
              "      height: 32px;\n",
              "      padding: 0 0 0 0;\n",
              "      width: 32px;\n",
              "    }\n",
              "\n",
              "    .colab-df-convert:hover {\n",
              "      background-color: #E2EBFA;\n",
              "      box-shadow: 0px 1px 2px rgba(60, 64, 67, 0.3), 0px 1px 3px 1px rgba(60, 64, 67, 0.15);\n",
              "      fill: #174EA6;\n",
              "    }\n",
              "\n",
              "    .colab-df-buttons div {\n",
              "      margin-bottom: 4px;\n",
              "    }\n",
              "\n",
              "    [theme=dark] .colab-df-convert {\n",
              "      background-color: #3B4455;\n",
              "      fill: #D2E3FC;\n",
              "    }\n",
              "\n",
              "    [theme=dark] .colab-df-convert:hover {\n",
              "      background-color: #434B5C;\n",
              "      box-shadow: 0px 1px 3px 1px rgba(0, 0, 0, 0.15);\n",
              "      filter: drop-shadow(0px 1px 2px rgba(0, 0, 0, 0.3));\n",
              "      fill: #FFFFFF;\n",
              "    }\n",
              "  </style>\n",
              "\n",
              "    <script>\n",
              "      const buttonEl =\n",
              "        document.querySelector('#df-5f2b96f4-3508-40ec-9268-f62a91b9288a button.colab-df-convert');\n",
              "      buttonEl.style.display =\n",
              "        google.colab.kernel.accessAllowed ? 'block' : 'none';\n",
              "\n",
              "      async function convertToInteractive(key) {\n",
              "        const element = document.querySelector('#df-5f2b96f4-3508-40ec-9268-f62a91b9288a');\n",
              "        const dataTable =\n",
              "          await google.colab.kernel.invokeFunction('convertToInteractive',\n",
              "                                                    [key], {});\n",
              "        if (!dataTable) return;\n",
              "\n",
              "        const docLinkHtml = 'Like what you see? Visit the ' +\n",
              "          '<a target=\"_blank\" href=https://colab.research.google.com/notebooks/data_table.ipynb>data table notebook</a>'\n",
              "          + ' to learn more about interactive tables.';\n",
              "        element.innerHTML = '';\n",
              "        dataTable['output_type'] = 'display_data';\n",
              "        await google.colab.output.renderOutput(dataTable, element);\n",
              "        const docLink = document.createElement('div');\n",
              "        docLink.innerHTML = docLinkHtml;\n",
              "        element.appendChild(docLink);\n",
              "      }\n",
              "    </script>\n",
              "  </div>\n",
              "\n",
              "\n",
              "<div id=\"df-ea6dc5a8-da42-4556-bbe9-507969fe3cf3\">\n",
              "  <button class=\"colab-df-quickchart\" onclick=\"quickchart('df-ea6dc5a8-da42-4556-bbe9-507969fe3cf3')\"\n",
              "            title=\"Suggest charts\"\n",
              "            style=\"display:none;\">\n",
              "\n",
              "<svg xmlns=\"http://www.w3.org/2000/svg\" height=\"24px\"viewBox=\"0 0 24 24\"\n",
              "     width=\"24px\">\n",
              "    <g>\n",
              "        <path d=\"M19 3H5c-1.1 0-2 .9-2 2v14c0 1.1.9 2 2 2h14c1.1 0 2-.9 2-2V5c0-1.1-.9-2-2-2zM9 17H7v-7h2v7zm4 0h-2V7h2v10zm4 0h-2v-4h2v4z\"/>\n",
              "    </g>\n",
              "</svg>\n",
              "  </button>\n",
              "\n",
              "<style>\n",
              "  .colab-df-quickchart {\n",
              "      --bg-color: #E8F0FE;\n",
              "      --fill-color: #1967D2;\n",
              "      --hover-bg-color: #E2EBFA;\n",
              "      --hover-fill-color: #174EA6;\n",
              "      --disabled-fill-color: #AAA;\n",
              "      --disabled-bg-color: #DDD;\n",
              "  }\n",
              "\n",
              "  [theme=dark] .colab-df-quickchart {\n",
              "      --bg-color: #3B4455;\n",
              "      --fill-color: #D2E3FC;\n",
              "      --hover-bg-color: #434B5C;\n",
              "      --hover-fill-color: #FFFFFF;\n",
              "      --disabled-bg-color: #3B4455;\n",
              "      --disabled-fill-color: #666;\n",
              "  }\n",
              "\n",
              "  .colab-df-quickchart {\n",
              "    background-color: var(--bg-color);\n",
              "    border: none;\n",
              "    border-radius: 50%;\n",
              "    cursor: pointer;\n",
              "    display: none;\n",
              "    fill: var(--fill-color);\n",
              "    height: 32px;\n",
              "    padding: 0;\n",
              "    width: 32px;\n",
              "  }\n",
              "\n",
              "  .colab-df-quickchart:hover {\n",
              "    background-color: var(--hover-bg-color);\n",
              "    box-shadow: 0 1px 2px rgba(60, 64, 67, 0.3), 0 1px 3px 1px rgba(60, 64, 67, 0.15);\n",
              "    fill: var(--button-hover-fill-color);\n",
              "  }\n",
              "\n",
              "  .colab-df-quickchart-complete:disabled,\n",
              "  .colab-df-quickchart-complete:disabled:hover {\n",
              "    background-color: var(--disabled-bg-color);\n",
              "    fill: var(--disabled-fill-color);\n",
              "    box-shadow: none;\n",
              "  }\n",
              "\n",
              "  .colab-df-spinner {\n",
              "    border: 2px solid var(--fill-color);\n",
              "    border-color: transparent;\n",
              "    border-bottom-color: var(--fill-color);\n",
              "    animation:\n",
              "      spin 1s steps(1) infinite;\n",
              "  }\n",
              "\n",
              "  @keyframes spin {\n",
              "    0% {\n",
              "      border-color: transparent;\n",
              "      border-bottom-color: var(--fill-color);\n",
              "      border-left-color: var(--fill-color);\n",
              "    }\n",
              "    20% {\n",
              "      border-color: transparent;\n",
              "      border-left-color: var(--fill-color);\n",
              "      border-top-color: var(--fill-color);\n",
              "    }\n",
              "    30% {\n",
              "      border-color: transparent;\n",
              "      border-left-color: var(--fill-color);\n",
              "      border-top-color: var(--fill-color);\n",
              "      border-right-color: var(--fill-color);\n",
              "    }\n",
              "    40% {\n",
              "      border-color: transparent;\n",
              "      border-right-color: var(--fill-color);\n",
              "      border-top-color: var(--fill-color);\n",
              "    }\n",
              "    60% {\n",
              "      border-color: transparent;\n",
              "      border-right-color: var(--fill-color);\n",
              "    }\n",
              "    80% {\n",
              "      border-color: transparent;\n",
              "      border-right-color: var(--fill-color);\n",
              "      border-bottom-color: var(--fill-color);\n",
              "    }\n",
              "    90% {\n",
              "      border-color: transparent;\n",
              "      border-bottom-color: var(--fill-color);\n",
              "    }\n",
              "  }\n",
              "</style>\n",
              "\n",
              "  <script>\n",
              "    async function quickchart(key) {\n",
              "      const quickchartButtonEl =\n",
              "        document.querySelector('#' + key + ' button');\n",
              "      quickchartButtonEl.disabled = true;  // To prevent multiple clicks.\n",
              "      quickchartButtonEl.classList.add('colab-df-spinner');\n",
              "      try {\n",
              "        const charts = await google.colab.kernel.invokeFunction(\n",
              "            'suggestCharts', [key], {});\n",
              "      } catch (error) {\n",
              "        console.error('Error during call to suggestCharts:', error);\n",
              "      }\n",
              "      quickchartButtonEl.classList.remove('colab-df-spinner');\n",
              "      quickchartButtonEl.classList.add('colab-df-quickchart-complete');\n",
              "    }\n",
              "    (() => {\n",
              "      let quickchartButtonEl =\n",
              "        document.querySelector('#df-ea6dc5a8-da42-4556-bbe9-507969fe3cf3 button');\n",
              "      quickchartButtonEl.style.display =\n",
              "        google.colab.kernel.accessAllowed ? 'block' : 'none';\n",
              "    })();\n",
              "  </script>\n",
              "</div>\n",
              "    </div>\n",
              "  </div>\n"
            ],
            "text/plain": [
              "   data_id                                                 id        date  \\\n",
              "0     1809  abcnews--2019-10-31--Virginia mom charged with...  2019-10-31   \n",
              "1     1980  abcnews--2019-11-07--2 escaped murder suspects...  2019-11-07   \n",
              "2     1995  abcnews--2019-11-07--Family turns in escaped b...  2019-11-07   \n",
              "3     2740  abcnews--2019-12-02--Mother charged with murde...  2019-12-02   \n",
              "4     7038  ageofautism--2019-04-12--Physician Father and ...  2019-04-12   \n",
              "\n",
              "        source                                              title  \\\n",
              "0      abcnews  Virginia mom charged with murder in 2-year-old...   \n",
              "1      abcnews  2 escaped murder suspects arrested at US-Mexic...   \n",
              "2      abcnews  Family turns in escaped boy, 13, suspected in ...   \n",
              "3      abcnews  Mother charged with murder in deaths of 2 youn...   \n",
              "4  ageofautism  Physician, Father and Caretaker of 29 Year Old...   \n",
              "\n",
              "                                             content         author  \\\n",
              "0  The Virginia woman whose 2-year-old son was fo...            NaN   \n",
              "1  Authorities are trying to determine if anyone ...            NaN   \n",
              "2  A 13-year-old suspect in a double homicide who...            NaN   \n",
              "3  The mother of two young children found hanging...            NaN   \n",
              "4  \"One family member said Derek “can be violent ...  Age of Autism   \n",
              "\n",
              "                                                 url  \\\n",
              "0  https://abcnews.go.com/US/wireStory/virginia-m...   \n",
              "1  https://abcnews.go.com/US/wireStory/escaped-mu...   \n",
              "2  https://abcnews.go.com/US/wireStory/family-tur...   \n",
              "3  https://abcnews.go.com/US/wireStory/mother-cha...   \n",
              "4  http://feedproxy.google.com/~r/ageofautism/~3/...   \n",
              "\n",
              "                         published  published_utc  collection_utc  \\\n",
              "0  Thu, 31 Oct 2019 16:49:56 -0400     1572554996      1572559512   \n",
              "1  Thu, 07 Nov 2019 00:13:12 -0500     1573103592      1573131986   \n",
              "2  Thu, 07 Nov 2019 07:39:54 -0500     1573130394      1573131982   \n",
              "3  Mon, 02 Dec 2019 11:30:59 -0500     1575304259      1575308811   \n",
              "4        2019-04-12 09:00:00+00:00     1555074000      1567543083   \n",
              "\n",
              "         category_level_1 category_level_2  \n",
              "0  crime, law and justice            crime  \n",
              "1  crime, law and justice            crime  \n",
              "2  crime, law and justice            crime  \n",
              "3  crime, law and justice            crime  \n",
              "4  crime, law and justice            crime  "
            ]
          },
          "execution_count": 5,
          "metadata": {},
          "output_type": "execute_result"
        }
      ],
      "source": [
        "#importing the dataset\n",
        "dir = pd.read_csv(\"news-classification.zip\")\n",
        "pd.set_option('display.max_columns', None)\n",
        "dir.head()"
      ]
    },
    {
      "cell_type": "code",
      "execution_count": null,
      "metadata": {
        "colab": {
          "base_uri": "https://localhost:8080/",
          "height": 206
        },
        "id": "GldDxnmvc69j",
        "outputId": "2cef7d6e-250f-425f-fdbf-76287c904c90"
      },
      "outputs": [
        {
          "data": {
            "application/vnd.google.colaboratory.intrinsic+json": {
              "summary": "{\n  \"name\": \"ds\",\n  \"rows\": 10917,\n  \"fields\": [\n    {\n      \"column\": \"title\",\n      \"properties\": {\n        \"dtype\": \"string\",\n        \"num_unique_values\": 10357,\n        \"samples\": [\n          \"Birmingham parents fined over failing to get children to school hits record high\",\n          \"Why Summer Is a Great Time to Find a New Job\",\n          \"Donbas war update: Two WIAs as enemy 15 times opens fire on Ukraine positions over past day\"\n        ],\n        \"semantic_type\": \"\",\n        \"description\": \"\"\n      }\n    },\n    {\n      \"column\": \"category_level_1\",\n      \"properties\": {\n        \"dtype\": \"category\",\n        \"num_unique_values\": 17,\n        \"samples\": [\n          \"crime, law and justice\",\n          \"arts, culture, entertainment and media\",\n          \"education\"\n        ],\n        \"semantic_type\": \"\",\n        \"description\": \"\"\n      }\n    },\n    {\n      \"column\": \"category_level_2\",\n      \"properties\": {\n        \"dtype\": \"category\",\n        \"num_unique_values\": 109,\n        \"samples\": [\n          \"coup d'etat\",\n          \"economic sector\",\n          \"culture\"\n        ],\n        \"semantic_type\": \"\",\n        \"description\": \"\"\n      }\n    }\n  ]\n}",
              "type": "dataframe",
              "variable_name": "ds"
            },
            "text/html": [
              "\n",
              "  <div id=\"df-ac406891-4534-4b8a-bf72-3bf2d882402c\" class=\"colab-df-container\">\n",
              "    <div>\n",
              "<style scoped>\n",
              "    .dataframe tbody tr th:only-of-type {\n",
              "        vertical-align: middle;\n",
              "    }\n",
              "\n",
              "    .dataframe tbody tr th {\n",
              "        vertical-align: top;\n",
              "    }\n",
              "\n",
              "    .dataframe thead th {\n",
              "        text-align: right;\n",
              "    }\n",
              "</style>\n",
              "<table border=\"1\" class=\"dataframe\">\n",
              "  <thead>\n",
              "    <tr style=\"text-align: right;\">\n",
              "      <th></th>\n",
              "      <th>title</th>\n",
              "      <th>category_level_1</th>\n",
              "      <th>category_level_2</th>\n",
              "    </tr>\n",
              "  </thead>\n",
              "  <tbody>\n",
              "    <tr>\n",
              "      <th>0</th>\n",
              "      <td>Virginia mom charged with murder in 2-year-old...</td>\n",
              "      <td>crime, law and justice</td>\n",
              "      <td>crime</td>\n",
              "    </tr>\n",
              "    <tr>\n",
              "      <th>1</th>\n",
              "      <td>2 escaped murder suspects arrested at US-Mexic...</td>\n",
              "      <td>crime, law and justice</td>\n",
              "      <td>crime</td>\n",
              "    </tr>\n",
              "    <tr>\n",
              "      <th>2</th>\n",
              "      <td>Family turns in escaped boy, 13, suspected in ...</td>\n",
              "      <td>crime, law and justice</td>\n",
              "      <td>crime</td>\n",
              "    </tr>\n",
              "    <tr>\n",
              "      <th>3</th>\n",
              "      <td>Mother charged with murder in deaths of 2 youn...</td>\n",
              "      <td>crime, law and justice</td>\n",
              "      <td>crime</td>\n",
              "    </tr>\n",
              "    <tr>\n",
              "      <th>4</th>\n",
              "      <td>Physician, Father and Caretaker of 29 Year Old...</td>\n",
              "      <td>crime, law and justice</td>\n",
              "      <td>crime</td>\n",
              "    </tr>\n",
              "  </tbody>\n",
              "</table>\n",
              "</div>\n",
              "    <div class=\"colab-df-buttons\">\n",
              "\n",
              "  <div class=\"colab-df-container\">\n",
              "    <button class=\"colab-df-convert\" onclick=\"convertToInteractive('df-ac406891-4534-4b8a-bf72-3bf2d882402c')\"\n",
              "            title=\"Convert this dataframe to an interactive table.\"\n",
              "            style=\"display:none;\">\n",
              "\n",
              "  <svg xmlns=\"http://www.w3.org/2000/svg\" height=\"24px\" viewBox=\"0 -960 960 960\">\n",
              "    <path d=\"M120-120v-720h720v720H120Zm60-500h600v-160H180v160Zm220 220h160v-160H400v160Zm0 220h160v-160H400v160ZM180-400h160v-160H180v160Zm440 0h160v-160H620v160ZM180-180h160v-160H180v160Zm440 0h160v-160H620v160Z\"/>\n",
              "  </svg>\n",
              "    </button>\n",
              "\n",
              "  <style>\n",
              "    .colab-df-container {\n",
              "      display:flex;\n",
              "      gap: 12px;\n",
              "    }\n",
              "\n",
              "    .colab-df-convert {\n",
              "      background-color: #E8F0FE;\n",
              "      border: none;\n",
              "      border-radius: 50%;\n",
              "      cursor: pointer;\n",
              "      display: none;\n",
              "      fill: #1967D2;\n",
              "      height: 32px;\n",
              "      padding: 0 0 0 0;\n",
              "      width: 32px;\n",
              "    }\n",
              "\n",
              "    .colab-df-convert:hover {\n",
              "      background-color: #E2EBFA;\n",
              "      box-shadow: 0px 1px 2px rgba(60, 64, 67, 0.3), 0px 1px 3px 1px rgba(60, 64, 67, 0.15);\n",
              "      fill: #174EA6;\n",
              "    }\n",
              "\n",
              "    .colab-df-buttons div {\n",
              "      margin-bottom: 4px;\n",
              "    }\n",
              "\n",
              "    [theme=dark] .colab-df-convert {\n",
              "      background-color: #3B4455;\n",
              "      fill: #D2E3FC;\n",
              "    }\n",
              "\n",
              "    [theme=dark] .colab-df-convert:hover {\n",
              "      background-color: #434B5C;\n",
              "      box-shadow: 0px 1px 3px 1px rgba(0, 0, 0, 0.15);\n",
              "      filter: drop-shadow(0px 1px 2px rgba(0, 0, 0, 0.3));\n",
              "      fill: #FFFFFF;\n",
              "    }\n",
              "  </style>\n",
              "\n",
              "    <script>\n",
              "      const buttonEl =\n",
              "        document.querySelector('#df-ac406891-4534-4b8a-bf72-3bf2d882402c button.colab-df-convert');\n",
              "      buttonEl.style.display =\n",
              "        google.colab.kernel.accessAllowed ? 'block' : 'none';\n",
              "\n",
              "      async function convertToInteractive(key) {\n",
              "        const element = document.querySelector('#df-ac406891-4534-4b8a-bf72-3bf2d882402c');\n",
              "        const dataTable =\n",
              "          await google.colab.kernel.invokeFunction('convertToInteractive',\n",
              "                                                    [key], {});\n",
              "        if (!dataTable) return;\n",
              "\n",
              "        const docLinkHtml = 'Like what you see? Visit the ' +\n",
              "          '<a target=\"_blank\" href=https://colab.research.google.com/notebooks/data_table.ipynb>data table notebook</a>'\n",
              "          + ' to learn more about interactive tables.';\n",
              "        element.innerHTML = '';\n",
              "        dataTable['output_type'] = 'display_data';\n",
              "        await google.colab.output.renderOutput(dataTable, element);\n",
              "        const docLink = document.createElement('div');\n",
              "        docLink.innerHTML = docLinkHtml;\n",
              "        element.appendChild(docLink);\n",
              "      }\n",
              "    </script>\n",
              "  </div>\n",
              "\n",
              "\n",
              "<div id=\"df-49fb2593-c6f8-490b-81f9-43315adef034\">\n",
              "  <button class=\"colab-df-quickchart\" onclick=\"quickchart('df-49fb2593-c6f8-490b-81f9-43315adef034')\"\n",
              "            title=\"Suggest charts\"\n",
              "            style=\"display:none;\">\n",
              "\n",
              "<svg xmlns=\"http://www.w3.org/2000/svg\" height=\"24px\"viewBox=\"0 0 24 24\"\n",
              "     width=\"24px\">\n",
              "    <g>\n",
              "        <path d=\"M19 3H5c-1.1 0-2 .9-2 2v14c0 1.1.9 2 2 2h14c1.1 0 2-.9 2-2V5c0-1.1-.9-2-2-2zM9 17H7v-7h2v7zm4 0h-2V7h2v10zm4 0h-2v-4h2v4z\"/>\n",
              "    </g>\n",
              "</svg>\n",
              "  </button>\n",
              "\n",
              "<style>\n",
              "  .colab-df-quickchart {\n",
              "      --bg-color: #E8F0FE;\n",
              "      --fill-color: #1967D2;\n",
              "      --hover-bg-color: #E2EBFA;\n",
              "      --hover-fill-color: #174EA6;\n",
              "      --disabled-fill-color: #AAA;\n",
              "      --disabled-bg-color: #DDD;\n",
              "  }\n",
              "\n",
              "  [theme=dark] .colab-df-quickchart {\n",
              "      --bg-color: #3B4455;\n",
              "      --fill-color: #D2E3FC;\n",
              "      --hover-bg-color: #434B5C;\n",
              "      --hover-fill-color: #FFFFFF;\n",
              "      --disabled-bg-color: #3B4455;\n",
              "      --disabled-fill-color: #666;\n",
              "  }\n",
              "\n",
              "  .colab-df-quickchart {\n",
              "    background-color: var(--bg-color);\n",
              "    border: none;\n",
              "    border-radius: 50%;\n",
              "    cursor: pointer;\n",
              "    display: none;\n",
              "    fill: var(--fill-color);\n",
              "    height: 32px;\n",
              "    padding: 0;\n",
              "    width: 32px;\n",
              "  }\n",
              "\n",
              "  .colab-df-quickchart:hover {\n",
              "    background-color: var(--hover-bg-color);\n",
              "    box-shadow: 0 1px 2px rgba(60, 64, 67, 0.3), 0 1px 3px 1px rgba(60, 64, 67, 0.15);\n",
              "    fill: var(--button-hover-fill-color);\n",
              "  }\n",
              "\n",
              "  .colab-df-quickchart-complete:disabled,\n",
              "  .colab-df-quickchart-complete:disabled:hover {\n",
              "    background-color: var(--disabled-bg-color);\n",
              "    fill: var(--disabled-fill-color);\n",
              "    box-shadow: none;\n",
              "  }\n",
              "\n",
              "  .colab-df-spinner {\n",
              "    border: 2px solid var(--fill-color);\n",
              "    border-color: transparent;\n",
              "    border-bottom-color: var(--fill-color);\n",
              "    animation:\n",
              "      spin 1s steps(1) infinite;\n",
              "  }\n",
              "\n",
              "  @keyframes spin {\n",
              "    0% {\n",
              "      border-color: transparent;\n",
              "      border-bottom-color: var(--fill-color);\n",
              "      border-left-color: var(--fill-color);\n",
              "    }\n",
              "    20% {\n",
              "      border-color: transparent;\n",
              "      border-left-color: var(--fill-color);\n",
              "      border-top-color: var(--fill-color);\n",
              "    }\n",
              "    30% {\n",
              "      border-color: transparent;\n",
              "      border-left-color: var(--fill-color);\n",
              "      border-top-color: var(--fill-color);\n",
              "      border-right-color: var(--fill-color);\n",
              "    }\n",
              "    40% {\n",
              "      border-color: transparent;\n",
              "      border-right-color: var(--fill-color);\n",
              "      border-top-color: var(--fill-color);\n",
              "    }\n",
              "    60% {\n",
              "      border-color: transparent;\n",
              "      border-right-color: var(--fill-color);\n",
              "    }\n",
              "    80% {\n",
              "      border-color: transparent;\n",
              "      border-right-color: var(--fill-color);\n",
              "      border-bottom-color: var(--fill-color);\n",
              "    }\n",
              "    90% {\n",
              "      border-color: transparent;\n",
              "      border-bottom-color: var(--fill-color);\n",
              "    }\n",
              "  }\n",
              "</style>\n",
              "\n",
              "  <script>\n",
              "    async function quickchart(key) {\n",
              "      const quickchartButtonEl =\n",
              "        document.querySelector('#' + key + ' button');\n",
              "      quickchartButtonEl.disabled = true;  // To prevent multiple clicks.\n",
              "      quickchartButtonEl.classList.add('colab-df-spinner');\n",
              "      try {\n",
              "        const charts = await google.colab.kernel.invokeFunction(\n",
              "            'suggestCharts', [key], {});\n",
              "      } catch (error) {\n",
              "        console.error('Error during call to suggestCharts:', error);\n",
              "      }\n",
              "      quickchartButtonEl.classList.remove('colab-df-spinner');\n",
              "      quickchartButtonEl.classList.add('colab-df-quickchart-complete');\n",
              "    }\n",
              "    (() => {\n",
              "      let quickchartButtonEl =\n",
              "        document.querySelector('#df-49fb2593-c6f8-490b-81f9-43315adef034 button');\n",
              "      quickchartButtonEl.style.display =\n",
              "        google.colab.kernel.accessAllowed ? 'block' : 'none';\n",
              "    })();\n",
              "  </script>\n",
              "</div>\n",
              "    </div>\n",
              "  </div>\n"
            ],
            "text/plain": [
              "                                               title        category_level_1  \\\n",
              "0  Virginia mom charged with murder in 2-year-old...  crime, law and justice   \n",
              "1  2 escaped murder suspects arrested at US-Mexic...  crime, law and justice   \n",
              "2  Family turns in escaped boy, 13, suspected in ...  crime, law and justice   \n",
              "3  Mother charged with murder in deaths of 2 youn...  crime, law and justice   \n",
              "4  Physician, Father and Caretaker of 29 Year Old...  crime, law and justice   \n",
              "\n",
              "  category_level_2  \n",
              "0            crime  \n",
              "1            crime  \n",
              "2            crime  \n",
              "3            crime  \n",
              "4            crime  "
            ]
          },
          "execution_count": 6,
          "metadata": {},
          "output_type": "execute_result"
        }
      ],
      "source": [
        "#creating a new dataset with only relevant features.\n",
        "ds = dir[['title','category_level_1','category_level_2']]\n",
        "ds.head()"
      ]
    },
    {
      "cell_type": "code",
      "execution_count": null,
      "metadata": {
        "colab": {
          "base_uri": "https://localhost:8080/",
          "height": 206
        },
        "id": "xg7ARuKudeUv",
        "outputId": "b341952f-a89c-464d-9fcc-532670c3978a"
      },
      "outputs": [
        {
          "data": {
            "application/vnd.google.colaboratory.intrinsic+json": {
              "summary": "{\n  \"name\": \"ds\",\n  \"rows\": 10917,\n  \"fields\": [\n    {\n      \"column\": \"title\",\n      \"properties\": {\n        \"dtype\": \"string\",\n        \"num_unique_values\": 10357,\n        \"samples\": [\n          \"Basketball Referee Banned After Allegedly Commenting on 10-Year-Old Girl's Hair\",\n          \"Proposed impact assessment regulations draw ire of environmental groups\",\n          \"Best Christmas board games for 2019: For families, children, teams and solo players\"\n        ],\n        \"semantic_type\": \"\",\n        \"description\": \"\"\n      }\n    },\n    {\n      \"column\": \"category_level_1\",\n      \"properties\": {\n        \"dtype\": \"category\",\n        \"num_unique_values\": 17,\n        \"samples\": [\n          \"religion and belief\",\n          \"health\",\n          \"environment\"\n        ],\n        \"semantic_type\": \"\",\n        \"description\": \"\"\n      }\n    },\n    {\n      \"column\": \"category_level_2\",\n      \"properties\": {\n        \"dtype\": \"category\",\n        \"num_unique_values\": 109,\n        \"samples\": [\n          \"weather phenomena\",\n          \"technology and engineering\",\n          \"exercise and fitness\"\n        ],\n        \"semantic_type\": \"\",\n        \"description\": \"\"\n      }\n    }\n  ]\n}",
              "type": "dataframe",
              "variable_name": "ds"
            },
            "text/html": [
              "\n",
              "  <div id=\"df-616fb497-a8f4-4db0-8bf7-86e07b91480b\" class=\"colab-df-container\">\n",
              "    <div>\n",
              "<style scoped>\n",
              "    .dataframe tbody tr th:only-of-type {\n",
              "        vertical-align: middle;\n",
              "    }\n",
              "\n",
              "    .dataframe tbody tr th {\n",
              "        vertical-align: top;\n",
              "    }\n",
              "\n",
              "    .dataframe thead th {\n",
              "        text-align: right;\n",
              "    }\n",
              "</style>\n",
              "<table border=\"1\" class=\"dataframe\">\n",
              "  <thead>\n",
              "    <tr style=\"text-align: right;\">\n",
              "      <th></th>\n",
              "      <th>title</th>\n",
              "      <th>category_level_1</th>\n",
              "      <th>category_level_2</th>\n",
              "    </tr>\n",
              "  </thead>\n",
              "  <tbody>\n",
              "    <tr>\n",
              "      <th>0</th>\n",
              "      <td>WATCH Migrants Brawl After Quran-Throwing Prot...</td>\n",
              "      <td>religion and belief</td>\n",
              "      <td>religious text</td>\n",
              "    </tr>\n",
              "    <tr>\n",
              "      <th>1</th>\n",
              "      <td>The disease that kills by stealing sleep - fat...</td>\n",
              "      <td>health</td>\n",
              "      <td>diseases and conditions</td>\n",
              "    </tr>\n",
              "    <tr>\n",
              "      <th>2</th>\n",
              "      <td>Union boosts strike pay for GM workers as talk...</td>\n",
              "      <td>labour</td>\n",
              "      <td>unions</td>\n",
              "    </tr>\n",
              "    <tr>\n",
              "      <th>3</th>\n",
              "      <td>Ukraine creating new obstacles for exchange of...</td>\n",
              "      <td>conflict, war and peace</td>\n",
              "      <td>prisoners of war</td>\n",
              "    </tr>\n",
              "    <tr>\n",
              "      <th>4</th>\n",
              "      <td>Best resistance bands: The best workout and ex...</td>\n",
              "      <td>lifestyle and leisure</td>\n",
              "      <td>exercise and fitness</td>\n",
              "    </tr>\n",
              "  </tbody>\n",
              "</table>\n",
              "</div>\n",
              "    <div class=\"colab-df-buttons\">\n",
              "\n",
              "  <div class=\"colab-df-container\">\n",
              "    <button class=\"colab-df-convert\" onclick=\"convertToInteractive('df-616fb497-a8f4-4db0-8bf7-86e07b91480b')\"\n",
              "            title=\"Convert this dataframe to an interactive table.\"\n",
              "            style=\"display:none;\">\n",
              "\n",
              "  <svg xmlns=\"http://www.w3.org/2000/svg\" height=\"24px\" viewBox=\"0 -960 960 960\">\n",
              "    <path d=\"M120-120v-720h720v720H120Zm60-500h600v-160H180v160Zm220 220h160v-160H400v160Zm0 220h160v-160H400v160ZM180-400h160v-160H180v160Zm440 0h160v-160H620v160ZM180-180h160v-160H180v160Zm440 0h160v-160H620v160Z\"/>\n",
              "  </svg>\n",
              "    </button>\n",
              "\n",
              "  <style>\n",
              "    .colab-df-container {\n",
              "      display:flex;\n",
              "      gap: 12px;\n",
              "    }\n",
              "\n",
              "    .colab-df-convert {\n",
              "      background-color: #E8F0FE;\n",
              "      border: none;\n",
              "      border-radius: 50%;\n",
              "      cursor: pointer;\n",
              "      display: none;\n",
              "      fill: #1967D2;\n",
              "      height: 32px;\n",
              "      padding: 0 0 0 0;\n",
              "      width: 32px;\n",
              "    }\n",
              "\n",
              "    .colab-df-convert:hover {\n",
              "      background-color: #E2EBFA;\n",
              "      box-shadow: 0px 1px 2px rgba(60, 64, 67, 0.3), 0px 1px 3px 1px rgba(60, 64, 67, 0.15);\n",
              "      fill: #174EA6;\n",
              "    }\n",
              "\n",
              "    .colab-df-buttons div {\n",
              "      margin-bottom: 4px;\n",
              "    }\n",
              "\n",
              "    [theme=dark] .colab-df-convert {\n",
              "      background-color: #3B4455;\n",
              "      fill: #D2E3FC;\n",
              "    }\n",
              "\n",
              "    [theme=dark] .colab-df-convert:hover {\n",
              "      background-color: #434B5C;\n",
              "      box-shadow: 0px 1px 3px 1px rgba(0, 0, 0, 0.15);\n",
              "      filter: drop-shadow(0px 1px 2px rgba(0, 0, 0, 0.3));\n",
              "      fill: #FFFFFF;\n",
              "    }\n",
              "  </style>\n",
              "\n",
              "    <script>\n",
              "      const buttonEl =\n",
              "        document.querySelector('#df-616fb497-a8f4-4db0-8bf7-86e07b91480b button.colab-df-convert');\n",
              "      buttonEl.style.display =\n",
              "        google.colab.kernel.accessAllowed ? 'block' : 'none';\n",
              "\n",
              "      async function convertToInteractive(key) {\n",
              "        const element = document.querySelector('#df-616fb497-a8f4-4db0-8bf7-86e07b91480b');\n",
              "        const dataTable =\n",
              "          await google.colab.kernel.invokeFunction('convertToInteractive',\n",
              "                                                    [key], {});\n",
              "        if (!dataTable) return;\n",
              "\n",
              "        const docLinkHtml = 'Like what you see? Visit the ' +\n",
              "          '<a target=\"_blank\" href=https://colab.research.google.com/notebooks/data_table.ipynb>data table notebook</a>'\n",
              "          + ' to learn more about interactive tables.';\n",
              "        element.innerHTML = '';\n",
              "        dataTable['output_type'] = 'display_data';\n",
              "        await google.colab.output.renderOutput(dataTable, element);\n",
              "        const docLink = document.createElement('div');\n",
              "        docLink.innerHTML = docLinkHtml;\n",
              "        element.appendChild(docLink);\n",
              "      }\n",
              "    </script>\n",
              "  </div>\n",
              "\n",
              "\n",
              "<div id=\"df-85c96998-3e39-4cfc-8cc4-856cc6e8d4be\">\n",
              "  <button class=\"colab-df-quickchart\" onclick=\"quickchart('df-85c96998-3e39-4cfc-8cc4-856cc6e8d4be')\"\n",
              "            title=\"Suggest charts\"\n",
              "            style=\"display:none;\">\n",
              "\n",
              "<svg xmlns=\"http://www.w3.org/2000/svg\" height=\"24px\"viewBox=\"0 0 24 24\"\n",
              "     width=\"24px\">\n",
              "    <g>\n",
              "        <path d=\"M19 3H5c-1.1 0-2 .9-2 2v14c0 1.1.9 2 2 2h14c1.1 0 2-.9 2-2V5c0-1.1-.9-2-2-2zM9 17H7v-7h2v7zm4 0h-2V7h2v10zm4 0h-2v-4h2v4z\"/>\n",
              "    </g>\n",
              "</svg>\n",
              "  </button>\n",
              "\n",
              "<style>\n",
              "  .colab-df-quickchart {\n",
              "      --bg-color: #E8F0FE;\n",
              "      --fill-color: #1967D2;\n",
              "      --hover-bg-color: #E2EBFA;\n",
              "      --hover-fill-color: #174EA6;\n",
              "      --disabled-fill-color: #AAA;\n",
              "      --disabled-bg-color: #DDD;\n",
              "  }\n",
              "\n",
              "  [theme=dark] .colab-df-quickchart {\n",
              "      --bg-color: #3B4455;\n",
              "      --fill-color: #D2E3FC;\n",
              "      --hover-bg-color: #434B5C;\n",
              "      --hover-fill-color: #FFFFFF;\n",
              "      --disabled-bg-color: #3B4455;\n",
              "      --disabled-fill-color: #666;\n",
              "  }\n",
              "\n",
              "  .colab-df-quickchart {\n",
              "    background-color: var(--bg-color);\n",
              "    border: none;\n",
              "    border-radius: 50%;\n",
              "    cursor: pointer;\n",
              "    display: none;\n",
              "    fill: var(--fill-color);\n",
              "    height: 32px;\n",
              "    padding: 0;\n",
              "    width: 32px;\n",
              "  }\n",
              "\n",
              "  .colab-df-quickchart:hover {\n",
              "    background-color: var(--hover-bg-color);\n",
              "    box-shadow: 0 1px 2px rgba(60, 64, 67, 0.3), 0 1px 3px 1px rgba(60, 64, 67, 0.15);\n",
              "    fill: var(--button-hover-fill-color);\n",
              "  }\n",
              "\n",
              "  .colab-df-quickchart-complete:disabled,\n",
              "  .colab-df-quickchart-complete:disabled:hover {\n",
              "    background-color: var(--disabled-bg-color);\n",
              "    fill: var(--disabled-fill-color);\n",
              "    box-shadow: none;\n",
              "  }\n",
              "\n",
              "  .colab-df-spinner {\n",
              "    border: 2px solid var(--fill-color);\n",
              "    border-color: transparent;\n",
              "    border-bottom-color: var(--fill-color);\n",
              "    animation:\n",
              "      spin 1s steps(1) infinite;\n",
              "  }\n",
              "\n",
              "  @keyframes spin {\n",
              "    0% {\n",
              "      border-color: transparent;\n",
              "      border-bottom-color: var(--fill-color);\n",
              "      border-left-color: var(--fill-color);\n",
              "    }\n",
              "    20% {\n",
              "      border-color: transparent;\n",
              "      border-left-color: var(--fill-color);\n",
              "      border-top-color: var(--fill-color);\n",
              "    }\n",
              "    30% {\n",
              "      border-color: transparent;\n",
              "      border-left-color: var(--fill-color);\n",
              "      border-top-color: var(--fill-color);\n",
              "      border-right-color: var(--fill-color);\n",
              "    }\n",
              "    40% {\n",
              "      border-color: transparent;\n",
              "      border-right-color: var(--fill-color);\n",
              "      border-top-color: var(--fill-color);\n",
              "    }\n",
              "    60% {\n",
              "      border-color: transparent;\n",
              "      border-right-color: var(--fill-color);\n",
              "    }\n",
              "    80% {\n",
              "      border-color: transparent;\n",
              "      border-right-color: var(--fill-color);\n",
              "      border-bottom-color: var(--fill-color);\n",
              "    }\n",
              "    90% {\n",
              "      border-color: transparent;\n",
              "      border-bottom-color: var(--fill-color);\n",
              "    }\n",
              "  }\n",
              "</style>\n",
              "\n",
              "  <script>\n",
              "    async function quickchart(key) {\n",
              "      const quickchartButtonEl =\n",
              "        document.querySelector('#' + key + ' button');\n",
              "      quickchartButtonEl.disabled = true;  // To prevent multiple clicks.\n",
              "      quickchartButtonEl.classList.add('colab-df-spinner');\n",
              "      try {\n",
              "        const charts = await google.colab.kernel.invokeFunction(\n",
              "            'suggestCharts', [key], {});\n",
              "      } catch (error) {\n",
              "        console.error('Error during call to suggestCharts:', error);\n",
              "      }\n",
              "      quickchartButtonEl.classList.remove('colab-df-spinner');\n",
              "      quickchartButtonEl.classList.add('colab-df-quickchart-complete');\n",
              "    }\n",
              "    (() => {\n",
              "      let quickchartButtonEl =\n",
              "        document.querySelector('#df-85c96998-3e39-4cfc-8cc4-856cc6e8d4be button');\n",
              "      quickchartButtonEl.style.display =\n",
              "        google.colab.kernel.accessAllowed ? 'block' : 'none';\n",
              "    })();\n",
              "  </script>\n",
              "</div>\n",
              "    </div>\n",
              "  </div>\n"
            ],
            "text/plain": [
              "                                               title         category_level_1  \\\n",
              "0  WATCH Migrants Brawl After Quran-Throwing Prot...      religion and belief   \n",
              "1  The disease that kills by stealing sleep - fat...                   health   \n",
              "2  Union boosts strike pay for GM workers as talk...                   labour   \n",
              "3  Ukraine creating new obstacles for exchange of...  conflict, war and peace   \n",
              "4  Best resistance bands: The best workout and ex...    lifestyle and leisure   \n",
              "\n",
              "          category_level_2  \n",
              "0           religious text  \n",
              "1  diseases and conditions  \n",
              "2                   unions  \n",
              "3         prisoners of war  \n",
              "4     exercise and fitness  "
            ]
          },
          "execution_count": 7,
          "metadata": {},
          "output_type": "execute_result"
        }
      ],
      "source": [
        "#shuffling rows with the help of sample, here (frac = 1) means return all rows\n",
        "ds = ds.sample(frac=1).reset_index(drop=True)\n",
        "ds.head()"
      ]
    },
    {
      "cell_type": "code",
      "execution_count": null,
      "metadata": {
        "colab": {
          "base_uri": "https://localhost:8080/"
        },
        "id": "rVgPxGaHdiE-",
        "outputId": "b232a5dd-b5b4-49fd-b13d-3febf3db8cf0"
      },
      "outputs": [
        {
          "data": {
            "text/plain": [
              "title               0\n",
              "category_level_1    0\n",
              "category_level_2    0\n",
              "dtype: int64"
            ]
          },
          "execution_count": 8,
          "metadata": {},
          "output_type": "execute_result"
        }
      ],
      "source": [
        "#checking for null values\n",
        "ds.isnull().sum()"
      ]
    },
    {
      "cell_type": "code",
      "execution_count": null,
      "metadata": {
        "colab": {
          "base_uri": "https://localhost:8080/",
          "height": 467
        },
        "id": "j625wUiUdkim",
        "outputId": "d306778a-a937-4a74-ffdd-da80e0c17391"
      },
      "outputs": [
        {
          "data": {
            "text/plain": [
              "<Axes: xlabel='category_level_1', ylabel='count'>"
            ]
          },
          "execution_count": 9,
          "metadata": {},
          "output_type": "execute_result"
        },
        {
          "data": {
            "image/png": "[encoded data removed]",
            "text/plain": [
              "<Figure size 640x480 with 1 Axes>"
            ]
          },
          "metadata": {},
          "output_type": "display_data"
        }
      ],
      "source": [
        "#plotting graph for categories\n",
        "sns.countplot(x = 'category_level_1',data = ds)"
      ]
    },
    {
      "cell_type": "code",
      "execution_count": null,
      "metadata": {
        "colab": {
          "base_uri": "https://localhost:8080/",
          "height": 467
        },
        "id": "WhvsRG9UdwS5",
        "outputId": "8c703bf8-6ddd-4277-db62-54ded37c3212"
      },
      "outputs": [
        {
          "data": {
            "text/plain": [
              "<Axes: xlabel='category_level_2', ylabel='count'>"
            ]
          },
          "execution_count": 10,
          "metadata": {},
          "output_type": "execute_result"
        },
        {
          "data": {
            "image/png": "[encoded data removed]",
            "text/plain": [
              "<Figure size 640x480 with 1 Axes>"
            ]
          },
          "metadata": {},
          "output_type": "display_data"
        }
      ],
      "source": [
        "#plotting graph for categories\n",
        "sns.countplot(x = 'category_level_2',data = ds)"
      ]
    },
    {
      "cell_type": "markdown",
      "metadata": {
        "id": "zhU9JckgF_TF"
      },
      "source": [
        "# Cleaning and preprocessing the text."
      ]
    },
    {
      "cell_type": "code",
      "execution_count": null,
      "metadata": {
        "colab": {
          "base_uri": "https://localhost:8080/"
        },
        "id": "_1K8l1Syd3jw",
        "outputId": "68c1c842-0be9-4b68-a483-a272418c0b63"
      },
      "outputs": [
        {
          "name": "stderr",
          "output_type": "stream",
          "text": [
            "[nltk_data] Downloading package stopwords to /root/nltk_data...\n",
            "[nltk_data]   Unzipping corpora/stopwords.zip.\n"
          ]
        },
        {
          "name": "stdout",
          "output_type": "stream",
          "text": [
            "WATCH Migrants Brawl After Quran Throwing Protests in Denmark\n",
            "The disease that kills by stealing sleep   fatal familial insomnia\n",
            "Union boosts strike pay for GM workers as talks continue\n",
            "Ukraine creating new obstacles for exchange of prisoners   Lavrov\n",
            "Best resistance bands  The best workout and exercise resistance bands\n"
          ]
        }
      ],
      "source": [
        "#cleaning and preprocessing the text\n",
        "import nltk\n",
        "nltk.download('stopwords')\n",
        "cleaned = []\n",
        "for i in range(0,len(ds)):\n",
        "\n",
        "    #removing any other words than (a-z) and (A-Z)\n",
        "    msg = re.sub('[^a-zA-Z]',' ',ds['title'][i])\n",
        "    if i < 5:\n",
        "      print(msg)\n",
        "\n",
        "    #converting all texts to lower case\n",
        "    msg = msg.lower()\n",
        "\n",
        "    #tokenizing\n",
        "    msg = msg.split()\n",
        "\n",
        "    #stemming and removing stopwords\n",
        "    ps = PorterStemmer()\n",
        "    msg = [ps.stem(words) for words in msg if not words in set(stopwords.words('english'))]\n",
        "    msg = ' '.join(msg)\n",
        "    cleaned.append(msg)"
      ]
    },
    {
      "cell_type": "code",
      "execution_count": null,
      "metadata": {
        "id": "p3CDsP8ReH3t"
      },
      "outputs": [],
      "source": [
        "#taking dictionary size 5000\n",
        "dict_size = 5000\n",
        "\n",
        "\n",
        "# Tokenize and pad sequences\n",
        "tokenizer = Tokenizer(num_words=10000)\n",
        "tokenizer.fit_on_texts(cleaned)\n",
        "sequences = tokenizer.texts_to_sequences(cleaned)\n",
        "\n",
        "#now for input as an embedding layer length of all rows should be equal therefore applying padding\n",
        "#this will make size of all rows equal by adding 0 at starting of the shorter rows\n",
        "#size of each row will be equal to length of longest row.\n",
        "embedded_layer = pad_sequences(sequences,padding = 'pre',maxlen = 150)"
      ]
    },
    {
      "cell_type": "code",
      "execution_count": null,
      "metadata": {
        "id": "YFjiPKpEeMFr"
      },
      "outputs": [],
      "source": [
        "#now creating independent and dependent features\n",
        "x = embedded_layer\n",
        "input_len = len(x[0])\n",
        "label_1 = np.array(ds['category_level_1'])\n",
        "label_2 = np.array(ds['category_level_2'])\n",
        "label_1_n = np.unique(np.array(ds[\"category_level_1\"]))\n",
        "label_2_n = np.unique(np.array(ds[\"category_level_2\"]))\n",
        "label_1_v = len(label_1_n)\n",
        "label_2_v = len(label_2_n)"
      ]
    },
    {
      "cell_type": "code",
      "execution_count": null,
      "metadata": {
        "id": "x1JfYneYeSFc"
      },
      "outputs": [],
      "source": [
        "#converting categorical values of y using OneHotEncoding\n",
        "label_encoder = LabelEncoder()\n",
        "label_1 = label_encoder.fit_transform(label_1)\n",
        "label_1 = to_categorical(label_1,label_1_v)\n",
        "\n",
        "#converting categorical values of z using OneHotEncoding\n",
        "label_encoder_2 = LabelEncoder()\n",
        "label_2 = label_encoder_2.fit_transform(label_2)\n",
        "label_2 = to_categorical(label_2,label_2_v)"
      ]
    },
    {
      "cell_type": "code",
      "execution_count": null,
      "metadata": {
        "id": "o4oYuuGEeYYU"
      },
      "outputs": [],
      "source": [
        "# splitting the Dataset into Train and Test set\n",
        "x_train,x_test,y_train,y_test,z_train,z_test=train_test_split(x,label_1,label_2,test_size=0.2,random_state=42)"
      ]
    },
    {
      "cell_type": "markdown",
      "metadata": {
        "id": "VInPS2lxF_TI"
      },
      "source": [
        "# Model for category_level_1."
      ]
    },
    {
      "cell_type": "markdown",
      "metadata": {
        "id": "Vm9jbEjoF_TJ"
      },
      "source": [
        "## LSTM model."
      ]
    },
    {
      "cell_type": "code",
      "execution_count": null,
      "metadata": {
        "colab": {
          "base_uri": "https://localhost:8080/"
        },
        "id": "fdI_JZJdejEt",
        "outputId": "4e7021bd-39b9-48df-a356-d837b2664396"
      },
      "outputs": [
        {
          "name": "stdout",
          "output_type": "stream",
          "text": [
            "Model: \"sequential\"\n",
            "_________________________________________________________________\n",
            " Layer (type)                Output Shape              Param #   \n",
            "=================================================================\n",
            " embedding (Embedding)       (None, 150, 50)           250000    \n",
            "                                                                 \n",
            " dropout (Dropout)           (None, 150, 50)           0         \n",
            "                                                                 \n",
            " lstm (LSTM)                 (None, 136)               101728    \n",
            "                                                                 \n",
            " dense (Dense)               (None, 17)                2329      \n",
            "                                                                 \n",
            "=================================================================\n",
            "Total params: 354057 (1.35 MB)\n",
            "Trainable params: 354057 (1.35 MB)\n",
            "Non-trainable params: 0 (0.00 Byte)\n",
            "_________________________________________________________________\n",
            "Epoch 1/15\n",
            "35/35 [==============================] - 10s 165ms/step - loss: 2.7829 - accuracy: 0.1000 - val_loss: 2.7441 - val_accuracy: 0.0966\n",
            "Epoch 2/15\n",
            "35/35 [==============================] - 9s 266ms/step - loss: 2.6518 - accuracy: 0.1592 - val_loss: 2.4934 - val_accuracy: 0.1813\n",
            "Epoch 3/15\n",
            "35/35 [==============================] - 4s 110ms/step - loss: 2.7024 - accuracy: 0.2529 - val_loss: 2.4929 - val_accuracy: 0.3837\n",
            "Epoch 4/15\n",
            "35/35 [==============================] - 3s 70ms/step - loss: 2.3128 - accuracy: 0.5094 - val_loss: 2.2021 - val_accuracy: 0.4817\n",
            "Epoch 5/15\n",
            "35/35 [==============================] - 2s 70ms/step - loss: 1.9225 - accuracy: 0.5666 - val_loss: 1.7955 - val_accuracy: 0.5357\n",
            "Epoch 6/15\n",
            "35/35 [==============================] - 3s 81ms/step - loss: 1.4812 - accuracy: 0.6262 - val_loss: 1.4424 - val_accuracy: 0.6044\n",
            "Epoch 7/15\n",
            "35/35 [==============================] - 2s 59ms/step - loss: 1.0266 - accuracy: 0.7323 - val_loss: 1.1657 - val_accuracy: 0.6529\n",
            "Epoch 8/15\n",
            "35/35 [==============================] - 1s 26ms/step - loss: 0.7208 - accuracy: 0.8170 - val_loss: 1.0062 - val_accuracy: 0.7216\n",
            "Epoch 9/15\n",
            "35/35 [==============================] - 1s 33ms/step - loss: 0.5219 - accuracy: 0.8737 - val_loss: 0.9195 - val_accuracy: 0.7505\n",
            "Epoch 10/15\n",
            "35/35 [==============================] - 1s 25ms/step - loss: 0.3960 - accuracy: 0.9042 - val_loss: 1.0108 - val_accuracy: 0.7239\n",
            "Epoch 11/15\n",
            "35/35 [==============================] - 1s 25ms/step - loss: 0.3453 - accuracy: 0.9194 - val_loss: 0.8606 - val_accuracy: 0.7747\n",
            "Epoch 12/15\n",
            "35/35 [==============================] - 1s 38ms/step - loss: 0.2565 - accuracy: 0.9401 - val_loss: 0.8757 - val_accuracy: 0.7743\n",
            "Epoch 13/15\n",
            "35/35 [==============================] - 1s 29ms/step - loss: 0.2158 - accuracy: 0.9466 - val_loss: 0.9073 - val_accuracy: 0.7802\n",
            "Epoch 14/15\n",
            "35/35 [==============================] - 1s 31ms/step - loss: 0.1826 - accuracy: 0.9534 - val_loss: 0.9083 - val_accuracy: 0.7715\n",
            "Epoch 15/15\n",
            "35/35 [==============================] - 1s 26ms/step - loss: 0.1534 - accuracy: 0.9592 - val_loss: 0.9212 - val_accuracy: 0.7784\n"
          ]
        }
      ],
      "source": [
        "#creating model using LSTM\n",
        "model = Sequential()\n",
        "\n",
        "#taking number features as 50\n",
        "model.add(Embedding(dict_size,50,input_length = input_len))\n",
        "model.add(Dropout(0.2))\n",
        "\n",
        "#adding LSTM layers with 8*label_1_v neurons\n",
        "model.add(LSTM(8*label_1_v))\n",
        "\n",
        "#adding output layer\n",
        "model.add(Dense(label_1_v,activation=\"softmax\"))\n",
        "\n",
        "#compiling the model\n",
        "model.compile(loss=\"categorical_crossentropy\",optimizer='adam',metrics=[\"accuracy\"])\n",
        "\n",
        "#summary of model\n",
        "model.summary()\n",
        "\n",
        "#training the model\n",
        "rnn = model.fit(x_train, y_train, validation_data = (x_test,y_test), epochs = 15, batch_size = 256)"
      ]
    },
    {
      "cell_type": "code",
      "execution_count": null,
      "metadata": {
        "colab": {
          "base_uri": "https://localhost:8080/"
        },
        "id": "wYiZ59UDf6_g",
        "outputId": "cf80498f-fb5f-4964-f3c5-2d86eb21ad16"
      },
      "outputs": [
        {
          "name": "stdout",
          "output_type": "stream",
          "text": [
            "69/69 [==============================] - 0s 6ms/step - loss: 0.9212 - accuracy: 0.7784\n"
          ]
        },
        {
          "data": {
            "text/plain": [
              "[0.9212058782577515, 0.778388261795044]"
            ]
          },
          "execution_count": 17,
          "metadata": {},
          "output_type": "execute_result"
        }
      ],
      "source": [
        "#evaluating our model\n",
        "model.evaluate(x_test,y_test)"
      ]
    },
    {
      "cell_type": "markdown",
      "metadata": {
        "id": "NeQoRkfTF_TK"
      },
      "source": [
        "## MultinomialNB model"
      ]
    },
    {
      "cell_type": "code",
      "execution_count": null,
      "metadata": {
        "colab": {
          "base_uri": "https://localhost:8080/"
        },
        "id": "WG2KGCYEF_TK",
        "outputId": "5f55137b-e92a-4b13-ffbe-227066a9cac0"
      },
      "outputs": [
        {
          "name": "stdout",
          "output_type": "stream",
          "text": [
            "342/342 [==============================] - 2s 4ms/step\n"
          ]
        }
      ],
      "source": [
        "# Extract LSTM features\n",
        "lstm_features = model.predict(x)\n",
        "\n",
        "# splitting the Dataset into Train and Test set\n",
        "x2_train,x2_test,y2_train,y2_test=train_test_split(lstm_features,label_1,test_size=0.2,random_state=78)"
      ]
    },
    {
      "cell_type": "code",
      "execution_count": null,
      "metadata": {
        "colab": {
          "base_uri": "https://localhost:8080/"
        },
        "id": "rWZH5VWdxGGI",
        "outputId": "334f665d-e931-41e5-c88a-f4221bb12ec2"
      },
      "outputs": [
        {
          "name": "stdout",
          "output_type": "stream",
          "text": [
            "Epoch 1/15\n",
            "219/219 [==============================] - 1s 3ms/step - loss: 2.6739 - accuracy: 0.2979 - val_loss: 2.5296 - val_accuracy: 0.4150\n",
            "Epoch 2/15\n",
            "219/219 [==============================] - 1s 3ms/step - loss: 2.3836 - accuracy: 0.5527 - val_loss: 2.2546 - val_accuracy: 0.7596\n",
            "Epoch 3/15\n",
            "219/219 [==============================] - 1s 3ms/step - loss: 2.1169 - accuracy: 0.8566 - val_loss: 2.0007 - val_accuracy: 0.8609\n",
            "Epoch 4/15\n",
            "219/219 [==============================] - 1s 3ms/step - loss: 1.8720 - accuracy: 0.8978 - val_loss: 1.7683 - val_accuracy: 0.8981\n",
            "Epoch 5/15\n",
            "219/219 [==============================] - 1s 3ms/step - loss: 1.6492 - accuracy: 0.9060 - val_loss: 1.5582 - val_accuracy: 0.9004\n",
            "Epoch 6/15\n",
            "219/219 [==============================] - 1s 3ms/step - loss: 1.4497 - accuracy: 0.9290 - val_loss: 1.3707 - val_accuracy: 0.9290\n",
            "Epoch 7/15\n",
            "219/219 [==============================] - 1s 3ms/step - loss: 1.2736 - accuracy: 0.9324 - val_loss: 1.2064 - val_accuracy: 0.9325\n",
            "Epoch 8/15\n",
            "219/219 [==============================] - 1s 3ms/step - loss: 1.1205 - accuracy: 0.9330 - val_loss: 1.0643 - val_accuracy: 0.9330\n",
            "Epoch 9/15\n",
            "219/219 [==============================] - 1s 3ms/step - loss: 0.9892 - accuracy: 0.9339 - val_loss: 0.9429 - val_accuracy: 0.9325\n",
            "Epoch 10/15\n",
            "219/219 [==============================] - 1s 3ms/step - loss: 0.8774 - accuracy: 0.9340 - val_loss: 0.8401 - val_accuracy: 0.9330\n",
            "Epoch 11/15\n",
            "219/219 [==============================] - 1s 3ms/step - loss: 0.7832 - accuracy: 0.9343 - val_loss: 0.7537 - val_accuracy: 0.9342\n",
            "Epoch 12/15\n",
            "219/219 [==============================] - 1s 4ms/step - loss: 0.7042 - accuracy: 0.9342 - val_loss: 0.6812 - val_accuracy: 0.9347\n",
            "Epoch 13/15\n",
            "219/219 [==============================] - 1s 4ms/step - loss: 0.6381 - accuracy: 0.9343 - val_loss: 0.6209 - val_accuracy: 0.9336\n",
            "Epoch 14/15\n",
            "219/219 [==============================] - 1s 4ms/step - loss: 0.5827 - accuracy: 0.9349 - val_loss: 0.5704 - val_accuracy: 0.9336\n",
            "Epoch 15/15\n",
            "219/219 [==============================] - 1s 3ms/step - loss: 0.5365 - accuracy: 0.9350 - val_loss: 0.5282 - val_accuracy: 0.9336\n"
          ]
        },
        {
          "data": {
            "text/plain": [
              "<keras.src.callbacks.History at 0x7838883170a0>"
            ]
          },
          "execution_count": 19,
          "metadata": {},
          "output_type": "execute_result"
        }
      ],
      "source": [
        "# Build a simple neural network for classification\n",
        "model2 = Sequential()\n",
        "model2.add(Dense(units=len(label_encoder.classes_), activation='softmax', input_dim=lstm_features.shape[1]))\n",
        "\n",
        "# Compile the model\n",
        "model2.compile(optimizer='adam', loss='categorical_crossentropy', metrics=['accuracy'])\n",
        "\n",
        "# Train the model\n",
        "model2.fit(x2_train, y2_train, epochs=15, batch_size=32, validation_split=0.2)"
      ]
    },
    {
      "cell_type": "code",
      "execution_count": null,
      "metadata": {
        "colab": {
          "base_uri": "https://localhost:8080/"
        },
        "id": "kSla1GOcQynT",
        "outputId": "63681246-abf0-4d12-b448-f2106a95ff4b"
      },
      "outputs": [
        {
          "name": "stdout",
          "output_type": "stream",
          "text": [
            "69/69 [==============================] - 0s 2ms/step\n",
            "Accuracy: 0.9326923076923077\n"
          ]
        }
      ],
      "source": [
        "# Evaluate the model on the test set\n",
        "predictions = model2.predict(x2_test)\n",
        "# Convert one-hot encoded predictions back to numerical labels\n",
        "predictions_numerical = np.argmax(predictions, axis=1)\n",
        "accuracy = accuracy_score(np.argmax(y2_test, axis=1), predictions_numerical)\n",
        "print(\"Accuracy:\", accuracy)"
      ]
    },
    {
      "cell_type": "markdown",
      "metadata": {
        "id": "3zxYA1hPIiEJ"
      },
      "source": [
        "# Model for category_level_2.\n"
      ]
    },
    {
      "cell_type": "markdown",
      "metadata": {
        "id": "VcuQB53eF_TL"
      },
      "source": [
        "## LSTM model."
      ]
    },
    {
      "cell_type": "code",
      "execution_count": null,
      "metadata": {
        "colab": {
          "base_uri": "https://localhost:8080/"
        },
        "id": "24X-iu9RR4ef",
        "outputId": "6b50553b-cc56-4c93-f05a-3b7de158eaf3"
      },
      "outputs": [
        {
          "name": "stdout",
          "output_type": "stream",
          "text": [
            "Model: \"sequential_2\"\n",
            "_________________________________________________________________\n",
            " Layer (type)                Output Shape              Param #   \n",
            "=================================================================\n",
            " embedding_1 (Embedding)     (None, 150, 100)          500000    \n",
            "                                                                 \n",
            " dropout_1 (Dropout)         (None, 150, 100)          0         \n",
            "                                                                 \n",
            " lstm_1 (LSTM)               (None, 1199)              6234800   \n",
            "                                                                 \n",
            " dense_2 (Dense)             (None, 109)               130800    \n",
            "                                                                 \n",
            "=================================================================\n",
            "Total params: 6865600 (26.19 MB)\n",
            "Trainable params: 6865600 (26.19 MB)\n",
            "Non-trainable params: 0 (0.00 Byte)\n",
            "_________________________________________________________________\n",
            "Epoch 1/20\n",
            "69/69 [==============================] - 21s 275ms/step - loss: 4.6500 - accuracy: 0.0475 - val_loss: 4.4942 - val_accuracy: 0.0554\n",
            "Epoch 2/20\n",
            "69/69 [==============================] - 19s 275ms/step - loss: 4.2737 - accuracy: 0.1452 - val_loss: 3.5741 - val_accuracy: 0.2179\n",
            "Epoch 3/20\n",
            "69/69 [==============================] - 19s 275ms/step - loss: 2.6477 - accuracy: 0.3881 - val_loss: 2.2696 - val_accuracy: 0.4789\n",
            "Epoch 4/20\n",
            "69/69 [==============================] - 20s 284ms/step - loss: 1.5363 - accuracy: 0.6149 - val_loss: 1.8293 - val_accuracy: 0.5595\n",
            "Epoch 5/20\n",
            "69/69 [==============================] - 20s 296ms/step - loss: 1.0495 - accuracy: 0.7303 - val_loss: 1.8214 - val_accuracy: 0.5815\n",
            "Epoch 6/20\n",
            "69/69 [==============================] - 20s 290ms/step - loss: 0.7603 - accuracy: 0.7948 - val_loss: 1.8265 - val_accuracy: 0.5810\n",
            "Epoch 7/20\n",
            "69/69 [==============================] - 19s 281ms/step - loss: 0.6023 - accuracy: 0.8337 - val_loss: 1.8980 - val_accuracy: 0.5806\n",
            "Epoch 8/20\n",
            "69/69 [==============================] - 20s 284ms/step - loss: 0.4856 - accuracy: 0.8674 - val_loss: 2.1956 - val_accuracy: 0.5604\n",
            "Epoch 9/20\n",
            "69/69 [==============================] - 20s 288ms/step - loss: 0.3980 - accuracy: 0.8882 - val_loss: 2.1697 - val_accuracy: 0.5655\n",
            "Epoch 10/20\n",
            "69/69 [==============================] - 20s 288ms/step - loss: 0.3762 - accuracy: 0.8939 - val_loss: 2.1651 - val_accuracy: 0.5737\n",
            "Epoch 11/20\n",
            "69/69 [==============================] - 21s 302ms/step - loss: 0.3147 - accuracy: 0.9091 - val_loss: 2.3265 - val_accuracy: 0.5746\n",
            "Epoch 12/20\n",
            "69/69 [==============================] - 20s 283ms/step - loss: 0.2831 - accuracy: 0.9161 - val_loss: 2.3060 - val_accuracy: 0.5687\n",
            "Epoch 13/20\n",
            "69/69 [==============================] - 20s 288ms/step - loss: 0.2447 - accuracy: 0.9287 - val_loss: 2.3520 - val_accuracy: 0.5792\n",
            "Epoch 14/20\n",
            "69/69 [==============================] - 20s 286ms/step - loss: 0.2109 - accuracy: 0.9350 - val_loss: 2.5100 - val_accuracy: 0.5705\n",
            "Epoch 15/20\n",
            "69/69 [==============================] - 20s 291ms/step - loss: 0.2160 - accuracy: 0.9336 - val_loss: 2.4488 - val_accuracy: 0.5801\n",
            "Epoch 16/20\n",
            "69/69 [==============================] - 20s 285ms/step - loss: 0.1944 - accuracy: 0.9406 - val_loss: 2.5917 - val_accuracy: 0.5719\n",
            "Epoch 17/20\n",
            "69/69 [==============================] - 20s 285ms/step - loss: 0.1963 - accuracy: 0.9356 - val_loss: 2.4934 - val_accuracy: 0.5714\n",
            "Epoch 18/20\n",
            "69/69 [==============================] - 20s 284ms/step - loss: 0.1722 - accuracy: 0.9439 - val_loss: 2.6109 - val_accuracy: 0.5769\n",
            "Epoch 19/20\n",
            "69/69 [==============================] - 21s 303ms/step - loss: 0.1848 - accuracy: 0.9426 - val_loss: 2.6497 - val_accuracy: 0.5696\n",
            "Epoch 20/20\n",
            "69/69 [==============================] - 21s 304ms/step - loss: 0.1755 - accuracy: 0.9419 - val_loss: 2.6327 - val_accuracy: 0.5774\n"
          ]
        }
      ],
      "source": [
        "#creating model using LSTM\n",
        "model3 = Sequential()\n",
        "\n",
        "model3.add(Embedding(dict_size,100,input_length = input_len))\n",
        "model3.add(Dropout(0.2))\n",
        "\n",
        "#adding LSTM layers with 11*label_2_v neurons\n",
        "model3.add(LSTM(11*label_2_v))\n",
        "\n",
        "#adding output layer\n",
        "model3.add(Dense(label_2_v,activation=\"softmax\"))\n",
        "\n",
        "#compiling the model\n",
        "model3.compile(loss=\"categorical_crossentropy\",optimizer='adam',metrics=[\"accuracy\"])\n",
        "\n",
        "#summary of model\n",
        "model3.summary()\n",
        "\n",
        "#training the model\n",
        "rnn = model3.fit(x_train, z_train, validation_data = (x_test, z_test), epochs = 20, batch_size = 128)"
      ]
    },
    {
      "cell_type": "code",
      "execution_count": null,
      "metadata": {
        "colab": {
          "base_uri": "https://localhost:8080/"
        },
        "id": "t3tistoLSIv5",
        "outputId": "5574ecf0-c4d9-41a8-eb3a-7e4ce0bd82c9"
      },
      "outputs": [
        {
          "name": "stdout",
          "output_type": "stream",
          "text": [
            "69/69 [==============================] - 2s 32ms/step - loss: 2.6327 - accuracy: 0.5774\n",
            "[2.632694959640503, 0.5773809552192688]\n"
          ]
        }
      ],
      "source": [
        "#evaluating our model\n",
        "result = model3.evaluate(x_test, z_test)\n",
        "print(result)"
      ]
    },
    {
      "cell_type": "markdown",
      "metadata": {
        "id": "5vcaSDDb-Fu3"
      },
      "source": [
        "## MultinomialNB model"
      ]
    },
    {
      "cell_type": "code",
      "execution_count": null,
      "metadata": {
        "colab": {
          "base_uri": "https://localhost:8080/"
        },
        "id": "r1ou2337-GTj",
        "outputId": "849c99ef-bb9e-41db-be30-5130d86d38ae"
      },
      "outputs": [
        {
          "name": "stdout",
          "output_type": "stream",
          "text": [
            "342/342 [==============================] - 11s 31ms/step\n"
          ]
        }
      ],
      "source": [
        "# Extract LSTM features\n",
        "lstm_features_2= model3.predict(x)\n",
        "\n",
        "# splitting the Dataset into Train and Test set\n",
        "x2_train,x2_test,z2_train,z2_test=train_test_split(lstm_features_2,label_2,test_size=0.2,random_state=78)"
      ]
    },
    {
      "cell_type": "code",
      "execution_count": null,
      "metadata": {
        "colab": {
          "base_uri": "https://localhost:8080/"
        },
        "id": "VYiaercE-KDJ",
        "outputId": "7f8ec0ba-3660-4642-cb88-a26ba1127c49"
      },
      "outputs": [
        {
          "name": "stdout",
          "output_type": "stream",
          "text": [
            "Model: \"sequential_3\"\n",
            "_________________________________________________________________\n",
            " Layer (type)                Output Shape              Param #   \n",
            "=================================================================\n",
            " dense_3 (Dense)             (None, 109)               11990     \n",
            "                                                                 \n",
            "=================================================================\n",
            "Total params: 11990 (46.84 KB)\n",
            "Trainable params: 11990 (46.84 KB)\n",
            "Non-trainable params: 0 (0.00 Byte)\n",
            "_________________________________________________________________\n",
            "Epoch 1/15\n",
            "219/219 [==============================] - 2s 5ms/step - loss: 4.6060 - accuracy: 0.2501 - val_loss: 4.5140 - val_accuracy: 0.4608\n",
            "Epoch 2/15\n",
            "219/219 [==============================] - 1s 4ms/step - loss: 4.4267 - accuracy: 0.5847 - val_loss: 4.3417 - val_accuracy: 0.7230\n",
            "Epoch 3/15\n",
            "219/219 [==============================] - 1s 3ms/step - loss: 4.2489 - accuracy: 0.7870 - val_loss: 4.1713 - val_accuracy: 0.8306\n",
            "Epoch 4/15\n",
            "219/219 [==============================] - 1s 3ms/step - loss: 4.0731 - accuracy: 0.8547 - val_loss: 4.0025 - val_accuracy: 0.8580\n",
            "Epoch 5/15\n",
            "219/219 [==============================] - 1s 3ms/step - loss: 3.8992 - accuracy: 0.8723 - val_loss: 3.8356 - val_accuracy: 0.8741\n",
            "Epoch 6/15\n",
            "219/219 [==============================] - 1s 3ms/step - loss: 3.7278 - accuracy: 0.8833 - val_loss: 3.6707 - val_accuracy: 0.8849\n",
            "Epoch 7/15\n",
            "219/219 [==============================] - 1s 3ms/step - loss: 3.5586 - accuracy: 0.8858 - val_loss: 3.5086 - val_accuracy: 0.8867\n",
            "Epoch 8/15\n",
            "219/219 [==============================] - 1s 3ms/step - loss: 3.3924 - accuracy: 0.8866 - val_loss: 3.3490 - val_accuracy: 0.8867\n",
            "Epoch 9/15\n",
            "219/219 [==============================] - 1s 3ms/step - loss: 3.2289 - accuracy: 0.8875 - val_loss: 3.1921 - val_accuracy: 0.8872\n",
            "Epoch 10/15\n",
            "219/219 [==============================] - 1s 3ms/step - loss: 3.0684 - accuracy: 0.8879 - val_loss: 3.0376 - val_accuracy: 0.8872\n",
            "Epoch 11/15\n",
            "219/219 [==============================] - 1s 3ms/step - loss: 2.9113 - accuracy: 0.8886 - val_loss: 2.8869 - val_accuracy: 0.8901\n",
            "Epoch 12/15\n",
            "219/219 [==============================] - 1s 3ms/step - loss: 2.7580 - accuracy: 0.8891 - val_loss: 2.7396 - val_accuracy: 0.8907\n",
            "Epoch 13/15\n",
            "219/219 [==============================] - 1s 3ms/step - loss: 2.6088 - accuracy: 0.8902 - val_loss: 2.5965 - val_accuracy: 0.8924\n",
            "Epoch 14/15\n",
            "219/219 [==============================] - 1s 3ms/step - loss: 2.4640 - accuracy: 0.8912 - val_loss: 2.4572 - val_accuracy: 0.8924\n",
            "Epoch 15/15\n",
            "219/219 [==============================] - 1s 3ms/step - loss: 2.3238 - accuracy: 0.8912 - val_loss: 2.3227 - val_accuracy: 0.8935\n"
          ]
        },
        {
          "data": {
            "text/plain": [
              "<keras.src.callbacks.History at 0x7838880aca30>"
            ]
          },
          "execution_count": 24,
          "metadata": {},
          "output_type": "execute_result"
        }
      ],
      "source": [
        "# Build a simple neural network for classification\n",
        "model4 = Sequential()\n",
        "model4.add(Dense(units=label_2_v, activation='softmax', input_dim=lstm_features_2.shape[1]))\n",
        "\n",
        "# Compile the model\n",
        "model4.compile(optimizer='adam', loss='categorical_crossentropy', metrics=['accuracy'])\n",
        "\n",
        "model4.summary()\n",
        "# Train the model\n",
        "model4.fit(x2_train, z2_train, epochs=15, batch_size=32, validation_split=0.2)"
      ]
    },
    {
      "cell_type": "code",
      "execution_count": null,
      "metadata": {
        "colab": {
          "base_uri": "https://localhost:8080/"
        },
        "id": "JyOXjpdq-Smz",
        "outputId": "1cba65b1-d24b-4487-8e51-81ba7b9b534b"
      },
      "outputs": [
        {
          "name": "stdout",
          "output_type": "stream",
          "text": [
            "69/69 [==============================] - 0s 1ms/step\n",
            "Accuracy: 0.8763736263736264\n"
          ]
        }
      ],
      "source": [
        "# Evaluate the model on the test set\n",
        "predictions = model4.predict(x2_test)\n",
        "# Convert one-hot encoded predictions back to numerical labels\n",
        "predictions_numerical = np.argmax(predictions, axis=1)\n",
        "accuracy = accuracy_score(np.argmax(z2_test, axis=1), predictions_numerical)\n",
        "print(\"Accuracy:\", accuracy)"
      ]
    },
    {
      "cell_type": "markdown",
      "metadata": {
        "id": "_RXNf0Q_O_0c"
      },
      "source": [
        "# Save the model."
      ]
    },
    {
      "cell_type": "code",
      "execution_count": null,
      "metadata": {
        "colab": {
          "base_uri": "https://localhost:8080/"
        },
        "id": "MJdDeysRO_VE",
        "outputId": "c658f0d7-1744-40c2-9b14-7bc9b0394202"
      },
      "outputs": [
        {
          "name": "stderr",
          "output_type": "stream",
          "text": [
            "/usr/local/lib/python3.10/dist-packages/keras/src/engine/training.py:3103: UserWarning: You are saving your model as an HDF5 file via `model.save()`. This file format is considered legacy. We recommend using instead the native Keras format, e.g. `model.save('my_model.keras')`.\n",
            "  saving_api.save_model(\n"
          ]
        },
        {
          "name": "stdout",
          "output_type": "stream",
          "text": [
            "The models is save.\n"
          ]
        }
      ],
      "source": [
        "if save:\n",
        "  model.save('saves/model_1.keras')\n",
        "  model.save('saves/model_1.h5')\n",
        "\n",
        "  model2.save('saves/model_2.keras')\n",
        "  model2.save('saves/model_2.h5')\n",
        "\n",
        "  model3.save('saves/model_3.keras')\n",
        "  model3.save('saves/model_3.h5')\n",
        "\n",
        "  model4.save('saves/model_4.keras')\n",
        "  model4.save('saves/model_4.h5')\n",
        "\n",
        "  print(\"The models is save.\")"
      ]
    }
  ],
  "metadata": {
    "accelerator": "GPU",
    "colab": {
      "gpuType": "T4",
      "provenance": []
    },
    "kernelspec": {
      "display_name": "Python 3",
      "name": "python3"
    },
    "language_info": {
      "name": "python",
      "version": "3.11.5"
    }
  },
  "nbformat": 4,
  "nbformat_minor": 0
}
